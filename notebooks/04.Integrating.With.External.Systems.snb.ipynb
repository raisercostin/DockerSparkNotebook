{
  "metadata" : {
    "id" : "339fe175-0049-434b-98e2-ab6367810262",
    "name" : "Integrating With External Systems",
    "user_save_timestamp" : "1970-01-01T00:00:00.000Z",
    "auto_save_timestamp" : "1970-01-01T00:00:00.000Z",
    "language_info" : {
      "name" : "scala",
      "file_extension" : "scala",
      "codemirror_mode" : "text/x-scala"
    },
    "trusted" : true,
    "sparkNotebook" : null,
    "customLocalRepo" : null,
    "customRepos" : null,
    "customDeps" : [
      "org.apache.spark:spark-sql-kafka-0-10_2.11:2.2.0"
    ],
    "customImports" : null,
    "customArgs" : null,
    "customSparkConf" : null,
    "customVars" : null
  },
  "cells" : [
    {
      "metadata" : {
        "trusted" : true,
        "input_collapsed" : false,
        "collapsed" : false,
        "id" : "8BAF913283D64DEF8FA312761BDFC7C1"
      },
      "cell_type" : "code",
      "source" : [
        "val a = 1"
      ],
      "outputs" : [ ]
    },
    {
      "metadata" : {
        "id" : "43739350E8F448AB98D0B359B3B2A685"
      },
      "cell_type" : "markdown",
      "source" : "### Kafka / Batch Processing"
    },
    {
      "metadata" : {
        "trusted" : true,
        "input_collapsed" : false,
        "collapsed" : false,
        "id" : "B7818F8B4EA1429DBD391FCF0D0FC288"
      },
      "cell_type" : "code",
      "source" : [
        "var KAFKA_BOOTSTRAP_SERVERS = \"192.168.0.15:9092\"\n",
        "\n",
        "var kafkaSourceOptions =\n",
        "  Map(\"kafka.bootstrap.servers\" -> KAFKA_BOOTSTRAP_SERVERS,\n",
        "      \"subscribe\" -> \"raw\",\n",
        "      \"startingOffsets\" -> \"earliest\",\n",
        "      \"endingOffsets\" -> \"latest\")"
      ],
      "outputs" : [ ]
    },
    {
      "metadata" : {
        "trusted" : true,
        "input_collapsed" : false,
        "collapsed" : false,
        "id" : "3C03A3A91D244D2096F0EB295083AAB5"
      },
      "cell_type" : "code",
      "source" : [
        "val kBatchDF =\n",
        "  sparkSession\n",
        "    .read\n",
        "    .format(\"kafka\")\n",
        "    .options(kafkaSourceOptions)\n",
        "    .load\n",
        "    .cache\n",
        "\n",
        "println(kBatchDF.count)\n",
        "\n",
        "kBatchDF"
      ],
      "outputs" : [ ]
    },
    {
      "metadata" : {
        "trusted" : true,
        "input_collapsed" : false,
        "collapsed" : false,
        "id" : "800748A1F3CF40478B8E892855F1038C"
      },
      "cell_type" : "code",
      "source" : [
        "kBatchDF.printSchema"
      ],
      "outputs" : [ ]
    },
    {
      "metadata" : {
        "trusted" : true,
        "input_collapsed" : false,
        "collapsed" : false,
        "id" : "7F15DCC4E7364D3AA60E7EDF62B892F7"
      },
      "cell_type" : "code",
      "source" : [
        "kBatchDF\n",
        "  .withColumn(\"token\", $\"key\".cast(\"string\"))"
      ],
      "outputs" : [ ]
    },
    {
      "metadata" : {
        "trusted" : true,
        "input_collapsed" : false,
        "collapsed" : false,
        "id" : "8D154A89A4754A089D84F1C2B1238359"
      },
      "cell_type" : "code",
      "source" : [
        "kBatchDF\n",
        "  .withColumn(\"token\", $\"key\".cast(\"string\"))\n",
        "  .withColumn(\"json_payload\", $\"value\".cast(\"string\"))\n",
        "  .select($\"token\", $\"json_payload\")"
      ],
      "outputs" : [ ]
    },
    {
      "metadata" : {
        "trusted" : true,
        "input_collapsed" : false,
        "collapsed" : false,
        "id" : "BC397CD7A9134ECB80548938E1E30306"
      },
      "cell_type" : "code",
      "source" : [
        "import org.apache.spark.sql.{functions => f}\n",
        "\n",
        "val batchDF =\n",
        "  kBatchDF\n",
        "    .withColumn(\"token\", $\"key\".cast(\"string\"))\n",
        "    .withColumn(\"json_payload\", $\"value\".cast(\"string\"))\n",
        "    .withColumn(\"ip_token\", f.get_json_object($\"json_payload\", \"$.ip_token\") )\n",
        "    .withColumn(\"tstamp\", f.get_json_object($\"json_payload\", \"$.tstamp\").cast(\"timestamp\") )\n",
        "    .select($\"token\", $\"ip_token\", $\"tstamp\")\n",
        "    .cache\n",
        "\n",
        "println(batchDF.count)\n",
        "\n",
        "batchDF"
      ],
      "outputs" : [ ]
    },
    {
      "metadata" : {
        "trusted" : true,
        "input_collapsed" : false,
        "collapsed" : false,
        "id" : "85A84B834177487A891197729C6E00AF"
      },
      "cell_type" : "code",
      "source" : [
        "val clickCountsBatchDF =\n",
        "  batchDF\n",
        "    .groupBy($\"ip_token\", window($\"tstamp\", \"6 seconds\", \"2 seconds\"))\n",
        "    .count\n",
        "    .cache\n",
        "\n",
        "println(clickCountsBatchDF.count)\n",
        "\n",
        "clickCountsBatchDF"
      ],
      "outputs" : [ ]
    },
    {
      "metadata" : {
        "trusted" : true,
        "input_collapsed" : false,
        "collapsed" : false,
        "id" : "89F9067C792B462EA7AB694EE0FCDA66"
      },
      "cell_type" : "code",
      "source" : [
        "clickCountsBatchDF.filter($\"count\" > 11)"
      ],
      "outputs" : [ ]
    },
    {
      "metadata" : {
        "trusted" : true,
        "input_collapsed" : false,
        "collapsed" : false,
        "id" : "F3B10605F9EA4B2E88A1E029F7361CF3"
      },
      "cell_type" : "code",
      "source" : [
        "clickCountsBatchDF.printSchema"
      ],
      "outputs" : [ ]
    },
    {
      "metadata" : {
        "trusted" : true,
        "input_collapsed" : false,
        "collapsed" : false,
        "id" : "0DAEA8CA607C4C1A8C45352E38946C16"
      },
      "cell_type" : "code",
      "source" : [
        "import org.apache.spark.sql.functions.udf\n",
        "\n",
        "def jsonizeFrequency(count: Long): String = s\"\"\"{\"frequency\": ${count}}\"\"\"\n",
        "\n",
        "val jsonizeFrequencyUDF = udf(jsonizeFrequency(_: Long))"
      ],
      "outputs" : [ ]
    },
    {
      "metadata" : {
        "trusted" : true,
        "input_collapsed" : false,
        "collapsed" : false,
        "id" : "D28CE970E8EE408D81CE52F24C9E0591"
      },
      "cell_type" : "code",
      "source" : [
        "clickCountsBatchDF\n",
        "  .filter($\"count\" > 11)\n",
        "  .withColumn(\"key\", $\"ip_token\")\n",
        "  .withColumn(\"value\", jsonizeFrequencyUDF($\"count\"))"
      ],
      "outputs" : [ ]
    },
    {
      "metadata" : {
        "trusted" : true,
        "input_collapsed" : false,
        "collapsed" : true,
        "id" : "02ABE4F1902A4B558CCDE03E336B276E"
      },
      "cell_type" : "code",
      "source" : [
        "var KAFKA_BOOTSTRAP_SERVERS = \"192.168.0.15:9092\"\n",
        "\n",
        "var kafkaSinkOpts =\n",
        "  Map(\"kafka.bootstrap.servers\" -> KAFKA_BOOTSTRAP_SERVERS,\n",
        "      \"topic\" -> \"analytics\")"
      ],
      "outputs" : [ ]
    },
    {
      "metadata" : {
        "trusted" : true,
        "input_collapsed" : false,
        "collapsed" : false,
        "id" : "3C413EC6416D4765B60FF79F78CC89E4"
      },
      "cell_type" : "code",
      "source" : [
        "clickCountsBatchDF\n",
        "  .filter($\"count\" > 11)\n",
        "  .withColumn(\"key\", $\"ip_token\")\n",
        "  .withColumn(\"value\", jsonizeFrequencyUDF($\"count\"))\n",
        "  .write\n",
        "  .format(\"kafka\")\n",
        "  .option(\"kafka.bootstrap.servers\", KAFKA_BOOTSTRAP_SERVERS)\n",
        "  .option(\"topic\", \"analytics\")\n",
        "  .save\n",
        "\n",
        "println(\"OK\")"
      ],
      "outputs" : [ ]
    },
    {
      "metadata" : {
        "id" : "43739350E8F448AB98D0B359B3B2A685"
      },
      "cell_type" : "markdown",
      "source" : "### Kafka / Structured Streaming"
    },
    {
      "metadata" : {
        "trusted" : true,
        "input_collapsed" : false,
        "collapsed" : false,
        "id" : "B7818F8B4EA1429DBD391FCF0D0FC288"
      },
      "cell_type" : "code",
      "source" : [
        "var KAFKA_BOOTSTRAP_SERVERS = \"192.168.0.15:9092\"\n",
        "\n",
        "var kafkaSourceOpts =\n",
        "  Map(\"kafka.bootstrap.servers\" -> KAFKA_BOOTSTRAP_SERVERS,\n",
        "      \"subscribe\" -> \"raw\",\n",
        "      \"startingOffsets\" -> \"latest\")"
      ],
      "outputs" : [ ]
    },
    {
      "metadata" : {
        "trusted" : true,
        "input_collapsed" : false,
        "collapsed" : false,
        "id" : "C5BC5A0B3EAE47658ABAA1ADE38E5F8E"
      },
      "cell_type" : "code",
      "source" : [
        "val kStreamDF =\n",
        "  sparkSession\n",
        "    .readStream\n",
        "    .format(\"kafka\")\n",
        "    .options(kafkaSourceOpts)\n",
        "    .load"
      ],
      "outputs" : [ ]
    },
    {
      "metadata" : {
        "trusted" : true,
        "input_collapsed" : false,
        "collapsed" : false,
        "id" : "A8FBACCA64D64CEA8041D02B79FC125F"
      },
      "cell_type" : "code",
      "source" : [
        "kStreamDF.printSchema"
      ],
      "outputs" : [ ]
    },
    {
      "metadata" : {
        "trusted" : true,
        "input_collapsed" : false,
        "collapsed" : false,
        "id" : "71561DD9AEC741BA80DF12C452EF1554"
      },
      "cell_type" : "code",
      "source" : [
        "import org.apache.spark.sql.{functions => f}\n",
        "\n",
        "val streamDF =\n",
        "  kStreamDF\n",
        "    .withColumn(\"token\", $\"key\".cast(\"string\"))\n",
        "    .withColumn(\"json_payload\", $\"value\".cast(\"string\"))\n",
        "    .withColumn(\"ip_token\", f.get_json_object($\"json_payload\", \"$.ip_token\") )\n",
        "    .withColumn(\"tstamp\", f.get_json_object($\"json_payload\", \"$.tstamp\").cast(\"timestamp\") )\n",
        "    .select($\"token\", $\"ip_token\", $\"tstamp\")"
      ],
      "outputs" : [ ]
    },
    {
      "metadata" : {
        "trusted" : true,
        "input_collapsed" : false,
        "collapsed" : false,
        "id" : "A8FBACCA64D64CEA8041D02B79FC125F"
      },
      "cell_type" : "code",
      "source" : [
        "streamDF.printSchema"
      ],
      "outputs" : [ ]
    },
    {
      "metadata" : {
        "trusted" : true,
        "input_collapsed" : false,
        "collapsed" : false,
        "id" : "8BA5B3B5AB364226A04557F493E5FE6E"
      },
      "cell_type" : "code",
      "source" : [
        "val clickCountsStreamDF =\n",
        "  streamDF\n",
        "    .withWatermark(\"tstamp\", \"10 seconds\")\n",
        "    .groupBy($\"ip_token\", window($\"tstamp\", \"6 seconds\", \"2 seconds\"))\n",
        "    .count"
      ],
      "outputs" : [ ]
    },
    {
      "metadata" : {
        "trusted" : true,
        "input_collapsed" : false,
        "collapsed" : false,
        "id" : "A8FBACCA64D64CEA8041D02B79FC125F"
      },
      "cell_type" : "code",
      "source" : [
        "clickCountsStreamDF.printSchema"
      ],
      "outputs" : [ ]
    },
    {
      "metadata" : {
        "trusted" : true,
        "input_collapsed" : false,
        "collapsed" : false,
        "id" : "22F2833A4EF34050837C31E76AFD1D62"
      },
      "cell_type" : "code",
      "source" : [
        "import org.apache.spark.sql.streaming.Trigger.ProcessingTime\n",
        "import org.apache.spark.sql.streaming.OutputMode.Append"
      ],
      "outputs" : [ ]
    },
    {
      "metadata" : {
        "trusted" : true,
        "input_collapsed" : false,
        "collapsed" : true,
        "id" : "02ABE4F1902A4B558CCDE03E336B276E"
      },
      "cell_type" : "code",
      "source" : [
        "var KAFKA_BOOTSTRAP_SERVERS = \"192.168.0.15:9092\"\n",
        "\n",
        "var kafkaSinkOpts =\n",
        "  Map(\"kafka.bootstrap.servers\" -> KAFKA_BOOTSTRAP_SERVERS,\n",
        "      \"topic\" -> \"analytics\",\n",
        "      \"checkpointLocation\" -> \"/tmp/checkpoint\")"
      ],
      "outputs" : [ ]
    },
    {
      "metadata" : {
        "trusted" : true,
        "input_collapsed" : false,
        "collapsed" : true,
        "id" : "41518D81266D406386100F755CAF6308"
      },
      "cell_type" : "code",
      "source" : [
        "val fraudDetectionStream =\n",
        "  clickCountsStreamDF\n",
        "    .filter($\"count\" > 11)\n",
        "    .withColumn(\"key\", $\"ip_token\")\n",
        "    .withColumn(\"value\", jsonizeFrequencyUDF($\"count\"))\n",
        "    .writeStream\n",
        "    .format(\"kafka\")\n",
        "    .trigger(ProcessingTime(\"2 seconds\"))\n",
        "    .outputMode(Append)\n",
        "    .options(kafkaSinkOpts)"
      ],
      "outputs" : [ ]
    },
    {
      "metadata" : {
        "trusted" : true,
        "input_collapsed" : false,
        "collapsed" : true,
        "id" : "FF5E2AB2FD0A43D78DF5203F2BA8FC3A"
      },
      "cell_type" : "code",
      "source" : [
        "fraudDetectionStream.start.awaitTermination"
      ],
      "outputs" : [ ]
    },
    {
      "metadata" : {
        "trusted" : true,
        "input_collapsed" : false,
        "collapsed" : true,
        "id" : "6E7C7B619DD74160B594C73C848D4B63"
      },
      "cell_type" : "code",
      "source" : [
        ""
      ],
      "outputs" : [ ]
    },
    {
      "metadata" : {
        "id" : "43739350E8F448AB98D0B359B3B2A685"
      },
      "cell_type" : "markdown",
      "source" : "### Writing a DataFrame / DataSet to Cassandra"
    },
    {
      "metadata" : {
        "trusted" : true,
        "input_collapsed" : false,
        "collapsed" : true,
        "id" : "8E5EE59BBD534DCBB37E5CFE3BE3D078"
      },
      "cell_type" : "code",
      "source" : [
        "import com.datastax.spark.connector.toDataFrameFunctions"
      ],
      "outputs" : [ ]
    },
    {
      "metadata" : {
        "trusted" : true,
        "input_collapsed" : false,
        "collapsed" : true,
        "id" : "7D39402557D34380B7470BB14DE02CC0"
      },
      "cell_type" : "code",
      "source" : [
        "case class Country (country_id: Long, continent_id: Long, country_name: String)"
      ],
      "outputs" : [ ]
    },
    {
      "metadata" : {
        "id" : "8E92D27D005F42C5843CAB5D0B8C81BD"
      },
      "cell_type" : "markdown",
      "source" : "For reference, here are the Cassandra definitions we are going to need further down below."
    },
    {
      "metadata" : {
        "id" : "C358970F4B5C4C31BFC43878A629D6A1"
      },
      "cell_type" : "markdown",
      "source" : "```\nCREATE KEYSPACE spark_ks WITH REPLICATION = { 'class': 'SimpleStrategy', 'replication_factor': 1 };\n\nCREATE TABLE spark_ks.spark_countries (\n  country_id INT,\n  continent_id INT,\n  country_name TEXT,\n  PRIMARY KEY ((country_id))\n);\n\nCREATE TABLE spark_ks.spark_countries_with_github_id (\n  github_id TEXT,\n  country_id INT,\n  continent_id INT,\n  country_name TEXT,\n  PRIMARY KEY ( (github_id), country_id )\n);\n```"
    },
    {
      "metadata" : {
        "id" : "7383283491204D6A80D4CBFDBA538049"
      },
      "cell_type" : "markdown",
      "source" : "Here we are configuring the Cassandra host name in the Spark application."
    },
    {
      "metadata" : {
        "trusted" : true,
        "input_collapsed" : false,
        "collapsed" : true,
        "id" : "8AD6BE1F0DAA467C9329E2D6E2A3BC31"
      },
      "cell_type" : "code",
      "source" : [
        "val CASSANDRA_HOST = \"dbserver\"\n",
        "\n",
        "sparkSession.conf.set(\"spark.cassandra.connection.host\", CASSANDRA_HOST)"
      ],
      "outputs" : [ ]
    },
    {
      "metadata" : {
        "trusted" : true,
        "input_collapsed" : false,
        "collapsed" : true,
        "id" : "155878387C8A4FB58BA1B540BC3D157F"
      },
      "cell_type" : "code",
      "source" : [
        "val countrySchema = Encoders.product[Country].schema\n",
        "\n",
        "val countriesDS = sparkSession.read\n",
        "                              .schema(countrySchema)\n",
        "                              .csv(\"/opt/SparkDatasets/geography/countries.csv\")\n",
        "                              .as[Country]"
      ],
      "outputs" : [ ]
    },
    {
      "metadata" : {
        "id" : "F30A723EC0984AF3B862638D3EAE8C11"
      },
      "cell_type" : "markdown",
      "source" : "Finally, here we are saving the data into Cassandra."
    },
    {
      "metadata" : {
        "trusted" : true,
        "input_collapsed" : false,
        "collapsed" : true,
        "id" : "155878387C8A4FB58BA1B540BC3D157F"
      },
      "cell_type" : "code",
      "source" : [
        "countriesDS\n",
        "  .write\n",
        "  .format(\"org.apache.spark.sql.cassandra\")\n",
        "  .mode(SaveMode.Append)\n",
        "  .options( Map(\"keyspace\" -> \"spark_ks\", \"table\" -> \"spark_countries\") )\n",
        "  .save"
      ],
      "outputs" : [ ]
    },
    {
      "metadata" : {
        "trusted" : true,
        "input_collapsed" : false,
        "collapsed" : true,
        "id" : "141D0AACF03341408FDFFB4468D38EF8"
      },
      "cell_type" : "code",
      "source" : [
        "val GH: String = \"your_github_id_goes_here\""
      ],
      "outputs" : [ ]
    },
    {
      "metadata" : {
        "trusted" : true,
        "input_collapsed" : false,
        "collapsed" : true,
        "id" : "A3A6DF32B34B4EC0969BB627D9AAA251"
      },
      "cell_type" : "code",
      "source" : [
        "countriesDS.withColumn(\"github_id\", lit(GH))"
      ],
      "outputs" : [ ]
    },
    {
      "metadata" : {
        "trusted" : true,
        "input_collapsed" : false,
        "collapsed" : true,
        "id" : "A3A6DF32B34B4EC0969BB627D9AAA251"
      },
      "cell_type" : "code",
      "source" : [
        "countriesDS\n",
        "  .withColumn(\"github_id\", lit(GH))\n",
        "  .write\n",
        "  .format(\"org.apache.spark.sql.cassandra\")\n",
        "  .mode(SaveMode.Append)\n",
        "  .options( Map(\"keyspace\" -> \"spark_ks\", \"table\" -> \"spark_countries_with_github_id\") )\n",
        "  .save"
      ],
      "outputs" : [ ]
    }
  ],
  "nbformat" : 4
}
