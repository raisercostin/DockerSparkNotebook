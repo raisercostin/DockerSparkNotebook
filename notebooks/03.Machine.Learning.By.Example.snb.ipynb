{
  "metadata" : {
    "id" : "8c622ea0-6a77-452f-9741-227a8e10c899",
    "name" : "Machine Learning By Example",
    "user_save_timestamp" : "1970-01-01T00:00:00.000Z",
    "auto_save_timestamp" : "1970-01-01T00:00:00.000Z",
    "language_info" : {
      "name" : "scala",
      "file_extension" : "scala",
      "codemirror_mode" : "text/x-scala"
    },
    "trusted" : true,
    "sparkNotebook" : null,
    "customLocalRepo" : null,
    "customRepos" : null,
    "customDeps" : null,
    "customImports" : null,
    "customArgs" : null,
    "customSparkConf" : null,
    "customVars" : null
  },
  "cells" : [
    {
      "metadata" : {
        "trusted" : true,
        "input_collapsed" : false,
        "collapsed" : false,
        "id" : "0A15D66CDF064688818C58A9C05EFD42"
      },
      "cell_type" : "code",
      "source" : [
        "val a = 1"
      ],
      "outputs" : [ ]
    },
    {
      "metadata" : {
        "trusted" : true,
        "input_collapsed" : false,
        "collapsed" : false,
        "id" : "EE6BCBDAD90D4FB9BCFEDC0744217B31"
      },
      "cell_type" : "code",
      "source" : [
        "sparkSession.conf.set(\"spark.executor.extraClassPath\", \"/jars/opennlp-tools.jar\")"
      ],
      "outputs" : [ ]
    },
    {
      "metadata" : {
        "trusted" : true,
        "input_collapsed" : false,
        "collapsed" : true,
        "id" : "CEC3B5E5FE61431AB061B98B05E4ECB5"
      },
      "cell_type" : "code",
      "source" : [
        ":sh head -1 /opt/SparkDatasets/topics/abstracts.csv"
      ],
      "outputs" : [ ]
    },
    {
      "metadata" : {
        "trusted" : true,
        "input_collapsed" : false,
        "collapsed" : true,
        "id" : "D33A3C8AE5914170802240ADA9E5D56F"
      },
      "cell_type" : "code",
      "source" : [
        "case class LabeledAbstract(track: String, title: String, text: String)"
      ],
      "outputs" : [ ]
    },
    {
      "metadata" : {
        "trusted" : true,
        "input_collapsed" : false,
        "collapsed" : true,
        "id" : "6838C42C6E6846D28D1C17138FC169A3"
      },
      "cell_type" : "code",
      "source" : [
        "import org.apache.spark.sql.types.StructType\n",
        "\n",
        "val labeledAbstractSchema: StructType = Encoders.product[LabeledAbstract].schema"
      ],
      "outputs" : [ ]
    },
    {
      "metadata" : {
        "trusted" : true,
        "input_collapsed" : false,
        "collapsed" : true,
        "id" : "DC3A5AB80B0D4BCE8F82112BE06540FB"
      },
      "cell_type" : "code",
      "source" : [
        "val data: Dataset[LabeledAbstract] =\n",
        "  sparkSession.read\n",
        "              .schema(labeledAbstractSchema)\n",
        "              .option(\"delimiter\", \";\")\n",
        "              .csv(\"/opt/SparkDatasets/topics/abstracts.csv\")\n",
        "              .as[LabeledAbstract]\n",
        "\n",
        "data.cache"
      ],
      "outputs" : [ ]
    },
    {
      "metadata" : {
        "trusted" : true,
        "input_collapsed" : false,
        "collapsed" : true,
        "id" : "C7C114CF3F9448C18702F83C2881842E"
      },
      "cell_type" : "code",
      "source" : [
        "import org.apache.spark.ml.feature.{StringIndexer, StringIndexerModel}\n",
        "\n",
        "val stringIndexerModel: StringIndexerModel =\n",
        "  (new StringIndexer).setInputCol(\"track\")\n",
        "                     .setOutputCol(\"indexedLabel\")\n",
        "                     .fit(data)"
      ],
      "outputs" : [ ]
    },
    {
      "metadata" : {
        "trusted" : true,
        "input_collapsed" : false,
        "collapsed" : true,
        "presentation" : {
          "tabs_state" : "{\n  \"tab_id\": \"#tab1246057734-0\"\n}",
          "pivot_chart_state" : "{\n  \"hiddenAttributes\": [],\n  \"menuLimit\": 200,\n  \"cols\": [],\n  \"rows\": [],\n  \"vals\": [],\n  \"exclusions\": {},\n  \"inclusions\": {},\n  \"unusedAttrsVertical\": 85,\n  \"autoSortUnusedAttrs\": false,\n  \"inclusionsInfo\": {},\n  \"aggregatorName\": \"Count\",\n  \"rendererName\": \"Table\"\n}"
        },
        "id" : "79DBD2A45A1D40768DB92549F36A0F49"
      },
      "cell_type" : "code",
      "source" : [
        "stringIndexerModel.labels"
      ],
      "outputs" : [ ]
    },
    {
      "metadata" : {
        "trusted" : true,
        "input_collapsed" : false,
        "collapsed" : true,
        "id" : "97998E0A48FF4E3186F4E6AE140996EB"
      },
      "cell_type" : "code",
      "source" : [
        "val indexed: DataFrame =\n",
        "  stringIndexerModel.transform(data)\n",
        "                    .select('indexedLabel, 'title, 'text)\n",
        "\n",
        "indexed.cache"
      ],
      "outputs" : [ ]
    },
    {
      "metadata" : {
        "trusted" : true,
        "input_collapsed" : false,
        "collapsed" : true,
        "id" : "A61C0F8A53F7407D8558C9CCC887F03A"
      },
      "cell_type" : "code",
      "source" : [
        "import org.apache.spark.ml.feature.IndexToString\n",
        "\n",
        "val indexToString: IndexToString =\n",
        "  (new IndexToString).setInputCol(\"prediction\")\n",
        "                     .setOutputCol(\"predictionLabel\")\n",
        "                     .setLabels(stringIndexerModel.labels)"
      ],
      "outputs" : [ ]
    },
    {
      "metadata" : {
        "trusted" : true,
        "input_collapsed" : false,
        "collapsed" : true,
        "id" : "A61C0F8A53F7407D8558C9CCC887F03A"
      },
      "cell_type" : "code",
      "source" : [
        "import org.apache.spark.ml.feature.SQLTransformer\n",
        "\n",
        "val sqlTransformer: SQLTransformer =\n",
        "  (new SQLTransformer).setStatement(\"\"\"SELECT indexedLabel,\n",
        "                                              concat(title, ' ' , text) AS titleAndText\n",
        "                                       FROM __THIS__\"\"\")"
      ],
      "outputs" : [ ]
    },
    {
      "metadata" : {
        "trusted" : true,
        "input_collapsed" : false,
        "collapsed" : true,
        "id" : "6704220CBE5E4B0CA6F9F1D415AED63D"
      },
      "cell_type" : "code",
      "source" : [
        "val transformed: DataFrame =\n",
        "  sqlTransformer.transform(indexed)\n",
        "\n",
        "transformed.cache"
      ],
      "outputs" : [ ]
    },
    {
      "metadata" : {
        "trusted" : true,
        "input_collapsed" : false,
        "collapsed" : true,
        "id" : "CC502F485D2E463C8AFA6AB05E8DCF50"
      },
      "cell_type" : "code",
      "source" : [
        "import org.apache.spark.ml.feature.RegexTokenizer\n",
        "\n",
        "val regexTokenizer: RegexTokenizer =\n",
        "  (new RegexTokenizer).setInputCol(\"titleAndText\")\n",
        "                      .setOutputCol(\"words\")\n",
        "                      .setPattern(\"\\\\W+\")"
      ],
      "outputs" : [ ]
    },
    {
      "metadata" : {
        "trusted" : true,
        "input_collapsed" : false,
        "collapsed" : true,
        "id" : "7B4179B0694946BC938D0F3918B3513E"
      },
      "cell_type" : "code",
      "source" : [
        "val words =\n",
        "  regexTokenizer.transform(transformed)\n",
        "                .select('indexedLabel, 'words)\n",
        "\n",
        "words.cache"
      ],
      "outputs" : [ ]
    },
    {
      "metadata" : {
        "trusted" : true,
        "input_collapsed" : false,
        "collapsed" : true,
        "id" : "26E96B93D0BE48ECA39F73E690DD51BB"
      },
      "cell_type" : "code",
      "source" : [
        "import opennlp.tools.stemmer.snowball.SnowballStemmer\n",
        "import opennlp.tools.stemmer.snowball.SnowballStemmer.ALGORITHM"
      ],
      "outputs" : [ ]
    },
    {
      "metadata" : {
        "trusted" : true,
        "input_collapsed" : false,
        "collapsed" : true,
        "id" : "7CC36CA0BE154219862F23086F08C0F1"
      },
      "cell_type" : "code",
      "source" : [
        "val opennlpStemmer = new SnowballStemmer(ALGORITHM.ENGLISH) with Serializable"
      ],
      "outputs" : [ ]
    },
    {
      "metadata" : {
        "trusted" : true,
        "input_collapsed" : false,
        "collapsed" : true,
        "id" : "EF600A8D62F34797B83A82BE4791678A"
      },
      "cell_type" : "code",
      "source" : [
        "def bulkStemmer(opennlpStemmer: SnowballStemmer)(stringArray: Seq[String]): Seq[String] = {\n",
        "  stringArray.map(opennlpStemmer.stem(_).toString)\n",
        "}"
      ],
      "outputs" : [ ]
    },
    {
      "metadata" : {
        "trusted" : true,
        "input_collapsed" : false,
        "collapsed" : true,
        "id" : "96F32AD4137E4BE0890959D23DC215ED"
      },
      "cell_type" : "code",
      "source" : [
        "sparkSession.udf.register( \"bulkStemmer\", bulkStemmer(opennlpStemmer) _ )"
      ],
      "outputs" : [ ]
    },
    {
      "metadata" : {
        "trusted" : true,
        "input_collapsed" : false,
        "collapsed" : true,
        "id" : "85437862A45F4172839275AB274C3DDB"
      },
      "cell_type" : "code",
      "source" : [
        "words.withColumn(\"stemmedWords\", bulkStemmer(opennlpStemmer)('words))"
      ],
      "outputs" : [ ]
    },
    {
      "metadata" : {
        "trusted" : true,
        "input_collapsed" : false,
        "collapsed" : true,
        "id" : "A8D64072D04D43579E85FD438891EDB3"
      },
      "cell_type" : "code",
      "source" : [
        "val stemmerTransformer: SQLTransformer =\n",
        "  (new SQLTransformer).setStatement(\"\"\"SELECT *,\n",
        "                                              bulkStemmer(words)\n",
        "                                       FROM __THIS__\"\"\")"
      ],
      "outputs" : [ ]
    },
    {
      "metadata" : {
        "trusted" : true,
        "input_collapsed" : false,
        "collapsed" : true,
        "id" : "43726705D5F04CDE8B338D8E4D86EE51"
      },
      "cell_type" : "code",
      "source" : [
        "import org.apache.spark.sql.Row"
      ],
      "outputs" : [ ]
    },
    {
      "metadata" : {
        "trusted" : true,
        "input_collapsed" : false,
        "collapsed" : true,
        "presentation" : {
          "tabs_state" : "{\n  \"tab_id\": \"#tab1445360412-0\"\n}",
          "pivot_chart_state" : "{\n  \"hiddenAttributes\": [],\n  \"menuLimit\": 200,\n  \"cols\": [],\n  \"rows\": [],\n  \"vals\": [],\n  \"exclusions\": {},\n  \"inclusions\": {},\n  \"unusedAttrsVertical\": 85,\n  \"autoSortUnusedAttrs\": false,\n  \"inclusionsInfo\": {},\n  \"aggregatorName\": \"Count\",\n  \"rendererName\": \"Table\"\n}"
        },
        "id" : "70AE677B06A348E88AE426480441A25D"
      },
      "cell_type" : "code",
      "source" : [
        "words.rdd.mapPartitions(f).first"
      ],
      "outputs" : [ ]
    },
    {
      "metadata" : {
        "trusted" : true,
        "input_collapsed" : false,
        "collapsed" : true,
        "id" : "6DAB9DC23656443184E452B7CF7EC7F4"
      },
      "cell_type" : "code",
      "source" : [
        "def f(rowIterator: Iterator[Row]): Iterator[Row] = {\n",
        "  import opennlp.tools.stemmer.snowball.SnowballStemmer\n",
        "  import opennlp.tools.stemmer.snowball.SnowballStemmer.ALGORITHM\n",
        "  val opennlpStemmer = new SnowballStemmer(ALGORITHM.ENGLISH) with Serializable\n",
        "  rowIterator.map { case Row(indexedLabel: Double, word: String) => Row(indexedLabel, opennlpStemmer.stem(word).toString) }\n",
        "}"
      ],
      "outputs" : [ ]
    }
  ],
  "nbformat" : 4
}

