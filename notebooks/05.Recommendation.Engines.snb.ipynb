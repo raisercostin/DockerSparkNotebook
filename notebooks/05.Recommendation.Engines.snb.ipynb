{
  "metadata" : {
    "id" : "658115fe-7020-4265-ac79-7ed1df5a3b9d",
    "name" : "Recommendation Engines",
    "user_save_timestamp" : "1970-01-01T00:00:00.000Z",
    "auto_save_timestamp" : "1970-01-01T00:00:00.000Z",
    "language_info" : {
      "name" : "scala",
      "file_extension" : "scala",
      "codemirror_mode" : "text/x-scala"
    },
    "trusted" : true,
    "sparkNotebook" : null,
    "customLocalRepo" : null,
    "customRepos" : null,
    "customDeps" : null,
    "customImports" : null,
    "customArgs" : null,
    "customSparkConf" : null,
    "customVars" : null
  },
  "cells" : [
    {
      "metadata" : {
        "trusted" : true,
        "input_collapsed" : false,
        "collapsed" : false,
        "id" : "6D9A04588CB147F7BAA4C0449F95870E"
      },
      "cell_type" : "code",
      "source" : [
        "val a = 1"
      ],
      "outputs" : [ ]
    },
    {
      "metadata" : {
        "id" : "CF46F5482F9E4B8E9248D56D459FD1C5"
      },
      "cell_type" : "markdown",
      "source" : "### Recommending Interesting Movies To Your Users"
    },
    {
      "metadata" : {
        "trusted" : true,
        "input_collapsed" : false,
        "collapsed" : false,
        "id" : "C71546A57DC246E1846F5B09C5D56D0A"
      },
      "cell_type" : "code",
      "source" : [
        ":sh cat /opt/SparkDatasets/recommender/ratings.csv"
      ],
      "outputs" : [ ]
    },
    {
      "metadata" : {
        "trusted" : true,
        "input_collapsed" : false,
        "collapsed" : false,
        "id" : "C71546A57DC246E1846F5B09C5D56D0A"
      },
      "cell_type" : "code",
      "source" : [
        ":sh cat /opt/SparkDatasets/recommender/ratings_header.csv"
      ],
      "outputs" : [ ]
    },
    {
      "metadata" : {
        "trusted" : true,
        "input_collapsed" : false,
        "collapsed" : false,
        "id" : "4FCCE76B017A45758154600831829106"
      },
      "cell_type" : "code",
      "source" : [
        "case class RatingRecord (user_id:  Int,\n",
        "                         movie_id: Int,\n",
        "                         rating:   Double)"
      ],
      "outputs" : [ ]
    },
    {
      "metadata" : {
        "trusted" : true,
        "input_collapsed" : false,
        "collapsed" : false,
        "id" : "5DCF2CC5D08D472FA485E17CAE49F69D"
      },
      "cell_type" : "code",
      "source" : [
        "import org.apache.spark.sql.{DataFrame, Dataset, Encoders}\n",
        "import org.apache.spark.sql.types.StructType\n",
        "\n",
        "val ratingRecordSchema: StructType = Encoders.product[RatingRecord].schema\n",
        "\n",
        "val fileContainingRatings = \"/opt/SparkDatasets/recommender/ratings.csv\"\n",
        "\n",
        "val rawRatingData: Dataset[RatingRecord] =\n",
        "  sparkSession.read\n",
        "              .schema(ratingRecordSchema)\n",
        "              .csv(fileContainingRatings)\n",
        "              .repartition(sparkSession.sparkContext.defaultParallelism)\n",
        "              .as[RatingRecord]\n",
        "\n",
        "rawRatingData.sort($\"user_id\", $\"movie_id\")"
      ],
      "outputs" : [ ]
    },
    {
      "metadata" : {
        "trusted" : true,
        "input_collapsed" : false,
        "collapsed" : false,
        "id" : "13C85F6C35C54E46A7992E6B93B1B09F"
      },
      "cell_type" : "code",
      "source" : [
        "val ratingData =\n",
        "  rawRatingData.withColumn(\"newrating\", $\"rating\" - 3.0)\n",
        "               .drop($\"rating\")\n",
        "               .withColumnRenamed(\"newrating\", \"rating\")\n",
        "\n",
        "ratingData.cache\n",
        "\n",
        "ratingData.count\n",
        "\n",
        "ratingData.sort($\"user_id\", $\"movie_id\")"
      ],
      "outputs" : [ ]
    },
    {
      "metadata" : {
        "trusted" : true,
        "input_collapsed" : false,
        "collapsed" : false,
        "id" : "F47120C1721147188E23CAC8C1502ADA"
      },
      "cell_type" : "code",
      "source" : [
        "import org.apache.spark.ml.recommendation.{ALS, ALSModel}\n",
        "\n",
        "val als: ALS =\n",
        "  (new ALS).setMaxIter(5)\n",
        "           .setRegParam(0.01)\n",
        "           .setUserCol(\"user_id\")\n",
        "           .setItemCol(\"movie_id\")\n",
        "           .setRatingCol(\"rating\")"
      ],
      "outputs" : [ ]
    },
    {
      "metadata" : {
        "trusted" : true,
        "input_collapsed" : false,
        "collapsed" : false,
        "id" : "2EC94C9B55484D9D84B6D788BF84F4A1"
      },
      "cell_type" : "code",
      "source" : [
        "val model: ALSModel = als.fit(ratingData)"
      ],
      "outputs" : [ ]
    },
    {
      "metadata" : {
        "trusted" : true,
        "input_collapsed" : false,
        "collapsed" : false,
        "id" : "C19F2455328C4208AA81E9C26BB9C399"
      },
      "cell_type" : "code",
      "source" : [
        "val allRecsDF: DataFrame = model.recommendForAllUsers(10)\n",
        "\n",
        "allRecsDF.cache\n",
        "\n",
        "allRecsDF.count\n",
        "\n",
        "val recsForNewUserDF: DataFrame = allRecsDF.filter($\"user_id\" === 9)\n",
        "\n",
        "recsForNewUserDF"
      ],
      "outputs" : [ ]
    },
    {
      "metadata" : {
        "trusted" : true,
        "input_collapsed" : false,
        "collapsed" : false,
        "id" : "BA3C653A13B74943B6635933D4FC6844"
      },
      "cell_type" : "code",
      "source" : [
        "import org.apache.spark.sql.{functions => f}\n",
        "\n",
        "val moviesSeenDF: DataFrame =\n",
        "  ratingData.groupBy($\"user_id\")\n",
        "            .agg(f.collect_list($\"movie_id\").alias(\"movies_seen\"))\n",
        "\n",
        "moviesSeenDF.cache\n",
        "\n",
        "moviesSeenDF.count\n",
        "\n",
        "moviesSeenDF"
      ],
      "outputs" : [ ]
    },
    {
      "metadata" : {
        "trusted" : true,
        "input_collapsed" : false,
        "collapsed" : false,
        "id" : "39F8F282D4CC47B78E6C10DEC8DDC0BC"
      },
      "cell_type" : "code",
      "source" : [
        "val joinDF: DataFrame = recsForNewUserDF.join(moviesSeenDF, \"user_id\")\n",
        "\n",
        "joinDF.cache\n",
        "\n",
        "joinDF.count\n",
        "\n",
        "joinDF"
      ],
      "outputs" : [ ]
    },
    {
      "metadata" : {
        "trusted" : true,
        "input_collapsed" : false,
        "collapsed" : false,
        "id" : "91EE2B0F3CAB49BD956A4E4D359BEA51"
      },
      "cell_type" : "code",
      "source" : [
        "case class MovieRank (rec_movie_id: Int,\n",
        "                      rank: Float)"
      ],
      "outputs" : [ ]
    },
    {
      "metadata" : {
        "trusted" : true,
        "input_collapsed" : false,
        "collapsed" : false,
        "id" : "B7A871293D924C1598F1EF7352DE9CEC"
      },
      "cell_type" : "code",
      "source" : [
        "import org.apache.spark.sql.expressions.UserDefinedFunction\n",
        "import org.apache.spark.sql.Row\n",
        "\n",
        "def abc(recs: Seq[Row], b: Seq[Int]): Seq[MovieRank] = {\n",
        "  val bSet = b.toSet\n",
        "  recs.filterNot {\n",
        "    case Row(movie_id: Int, rating: Float) => bSet.contains(movie_id) || rating <= 0\n",
        "  }\n",
        "  .map {\n",
        "    case Row(movie_id: Int, rating: Float) => MovieRank(movie_id, rating)\n",
        "  }\n",
        "}\n",
        "val abcUDF: UserDefinedFunction = f.udf(abc(_: Seq[Row], _: Seq[Int]))"
      ],
      "outputs" : [ ]
    },
    {
      "metadata" : {
        "trusted" : true,
        "input_collapsed" : false,
        "collapsed" : false,
        "id" : "0483D6E519464E20AA42D6CC203B971D"
      },
      "cell_type" : "code",
      "source" : [
        "joinDF.withColumn(\"proper_recs\", abcUDF($\"recommendations\", $\"movies_seen\"))"
      ],
      "outputs" : [ ]
    },
    {
      "metadata" : {
        "trusted" : true,
        "input_collapsed" : false,
        "collapsed" : false,
        "id" : "AB3CC0DA77BB42468C973528708FC833"
      },
      "cell_type" : "code",
      "source" : [
        "val properRecsForNewUserDF: DataFrame =\n",
        "  joinDF.withColumn(\"proper_recs\", abcUDF($\"recommendations\", $\"movies_seen\"))\n",
        "        .withColumn(\"proper_rec\", f.explode($\"proper_recs\"))\n",
        "        .withColumn(\"rec_movie_id\", $\"proper_rec.rec_movie_id\")\n",
        "        .withColumn(\"rank\", $\"proper_rec.rank\")\n",
        "        .select($\"user_id\", $\"rec_movie_id\", $\"rank\")\n",
        "        .sort($\"user_id\", $\"rank\".desc)\n",
        "\n",
        "properRecsForNewUserDF"
      ],
      "outputs" : [ ]
    }
  ],
  "nbformat" : 4
}
