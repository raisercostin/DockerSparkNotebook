{
  "metadata" : {
    "id" : "059cb423-f505-42a1-9b27-4c90cc274bc6",
    "name" : "Scala: First Dive",
    "user_save_timestamp" : "1970-01-01T00:00:00.000Z",
    "auto_save_timestamp" : "1970-01-01T00:00:00.000Z",
    "language_info" : {
      "name" : "scala",
      "file_extension" : "scala",
      "codemirror_mode" : "text/x-scala"
    },
    "trusted" : true,
    "sparkNotebook" : null,
    "customLocalRepo" : null,
    "customRepos" : null,
    "customDeps" : null,
    "customImports" : null,
    "customArgs" : null,
    "customSparkConf" : null,
    "customVars" : null
  },
  "cells" : [
    {
      "metadata" : {
        "id" : "45C2798430244441A4741B699D28977F"
      },
      "cell_type" : "markdown",
      "source" : "# Scala: First Dive"
    },
    {
      "metadata" : {
        "id" : "BF6D17198F2945428356DA7111F31C18"
      },
      "cell_type" : "markdown",
      "source" : "Spark applications are typically written in Scala (for performance) or Python (for easier integration with Python's rich ecosystem of data science tools).  \nWe now take a quick look at Scala in order to get a feel for the language before we start writing Spark applications in it."
    },
    {
      "metadata" : {
        "id" : "1136A0EF6AB7454F95B79219F36F12D3"
      },
      "cell_type" : "markdown",
      "source" : "### Data Modeling Primitives: The Sum Type"
    },
    {
      "metadata" : {
        "trusted" : true,
        "input_collapsed" : false,
        "collapsed" : false,
        "id" : "511A20E3DD494F0D8519C6800A724559"
      },
      "cell_type" : "code",
      "source" : [
        "class Department\n",
        "case class Engineering() extends Department\n",
        "case class Accounting()  extends Department\n",
        "case class Marketing()   extends Department\n",
        "case class PointOfSale() extends Department"
      ],
      "outputs" : [ ]
    },
    {
      "metadata" : {
        "id" : "1136A0EF6AB7454F95B79219F36F12D3"
      },
      "cell_type" : "markdown",
      "source" : "### Data Modeling Primitives: The Product Type"
    },
    {
      "metadata" : {
        "trusted" : true,
        "input_collapsed" : false,
        "collapsed" : false,
        "id" : "45BBE749C74C42E48464893B8CA22661"
      },
      "cell_type" : "code",
      "source" : [
        "case class TentativeEmployee(firstName: String,\n",
        "                             lastName:  String,\n",
        "                             email:     String,\n",
        "                             phoneExt:  Option[Int],\n",
        "                             dept:      Department,\n",
        "                             seniority: String)"
      ],
      "outputs" : [ ]
    },
    {
      "metadata" : {
        "trusted" : true,
        "input_collapsed" : false,
        "collapsed" : false,
        "id" : "50C45D03FA27452A80D14943E1BA8300"
      },
      "cell_type" : "code",
      "source" : [
        "val brian = TentativeEmployee(\"Brian\", \"Jones\", \"bjones@xyz.com\", Some(118), Accounting() , \"midlevel\")\n",
        "val craig = TentativeEmployee(\"Craig\", \"Smith\", \"csmith@xyz.com\", Some(237), Engineering(), \"senior\")\n",
        "val john  = TentativeEmployee(\"John\" , \"Clark\", \"jclark@xyz.com\", None     , PointOfSale(), \"trainee\")"
      ],
      "outputs" : [ ]
    },
    {
      "metadata" : {
        "id" : "094106BB57E24B5588610BFA2FFF3847"
      },
      "cell_type" : "markdown",
      "source" : "Q: Something is wrong with this picture (from a data modeling perspective). **What's wrong?**"
    },
    {
      "metadata" : {
        "trusted" : true,
        "input_collapsed" : false,
        "collapsed" : true,
        "id" : "437082D3834843E09E645C92E9DE5E5B"
      },
      "cell_type" : "code",
      "source" : [
        ""
      ],
      "outputs" : [ ]
    },
    {
      "metadata" : {
        "trusted" : true,
        "input_collapsed" : false,
        "collapsed" : true,
        "id" : "DAC3364630D44DE68730C86DDC7756AB"
      },
      "cell_type" : "code",
      "source" : [
        ""
      ],
      "outputs" : [ ]
    },
    {
      "metadata" : {
        "trusted" : true,
        "input_collapsed" : false,
        "collapsed" : true,
        "id" : "FF9547A67E73440A8277F505945F1EC3"
      },
      "cell_type" : "code",
      "source" : [
        ""
      ],
      "outputs" : [ ]
    },
    {
      "metadata" : {
        "trusted" : true,
        "input_collapsed" : false,
        "collapsed" : true,
        "id" : "F2663722CEC842F08C3FD5FC4ACED9DF"
      },
      "cell_type" : "code",
      "source" : [
        ""
      ],
      "outputs" : [ ]
    },
    {
      "metadata" : {
        "trusted" : true,
        "input_collapsed" : false,
        "collapsed" : true,
        "id" : "F83D59CBE96F4C1C86939B8414388777"
      },
      "cell_type" : "code",
      "source" : [
        ""
      ],
      "outputs" : [ ]
    },
    {
      "metadata" : {
        "trusted" : true,
        "input_collapsed" : false,
        "collapsed" : true,
        "id" : "013D390C58764BA893B2D214C6B83F0E"
      },
      "cell_type" : "code",
      "source" : [
        ""
      ],
      "outputs" : [ ]
    },
    {
      "metadata" : {
        "trusted" : true,
        "input_collapsed" : false,
        "collapsed" : true,
        "id" : "58FEE7E6FC7A4DC79C2816BC901E820A"
      },
      "cell_type" : "code",
      "source" : [
        ""
      ],
      "outputs" : [ ]
    },
    {
      "metadata" : {
        "trusted" : true,
        "input_collapsed" : false,
        "collapsed" : true,
        "id" : "47DD026A087D41B58371F88073BCE6D2"
      },
      "cell_type" : "code",
      "source" : [
        ""
      ],
      "outputs" : [ ]
    },
    {
      "metadata" : {
        "trusted" : true,
        "input_collapsed" : false,
        "collapsed" : true,
        "id" : "05355140E13D4DA1B6CBA2F998E6BFD8"
      },
      "cell_type" : "code",
      "source" : [
        ""
      ],
      "outputs" : [ ]
    },
    {
      "metadata" : {
        "trusted" : true,
        "input_collapsed" : false,
        "collapsed" : true,
        "id" : "163789EACEB74E1B8A0360324C5B5658"
      },
      "cell_type" : "code",
      "source" : [
        ""
      ],
      "outputs" : [ ]
    },
    {
      "metadata" : {
        "trusted" : true,
        "input_collapsed" : false,
        "collapsed" : true,
        "id" : "C22144BEA2E145CA89FAD67D8D672BD4"
      },
      "cell_type" : "code",
      "source" : [
        ""
      ],
      "outputs" : [ ]
    },
    {
      "metadata" : {
        "trusted" : true,
        "input_collapsed" : false,
        "collapsed" : true,
        "id" : "ED3A1A871FEF422E8097EA4163A65398"
      },
      "cell_type" : "code",
      "source" : [
        ""
      ],
      "outputs" : [ ]
    },
    {
      "metadata" : {
        "trusted" : true,
        "input_collapsed" : false,
        "collapsed" : true,
        "id" : "3CC3BC4FEA804E8DA91891117C3EC532"
      },
      "cell_type" : "code",
      "source" : [
        ""
      ],
      "outputs" : [ ]
    },
    {
      "metadata" : {
        "id" : "094106BB57E24B5588610BFA2FFF3847"
      },
      "cell_type" : "markdown",
      "source" : "A: Conceptually, seniority is an enumeration (it has a predetermined set of possible values), therefore it should be also modeled as a sum type, just like the department. Let's fix that."
    },
    {
      "metadata" : {
        "trusted" : true,
        "input_collapsed" : false,
        "collapsed" : false,
        "id" : "37721B846419415AA4FD0244ABBC1DAA"
      },
      "cell_type" : "code",
      "source" : [
        "class Seniority\n",
        "case class Trainee()          extends Seniority\n",
        "case class Midlevel()         extends Seniority\n",
        "case class Senior()           extends Seniority\n",
        "case class MiddleManagement() extends Seniority\n",
        "case class Executive()        extends Seniority"
      ],
      "outputs" : [ ]
    },
    {
      "metadata" : {
        "trusted" : true,
        "input_collapsed" : false,
        "collapsed" : false,
        "id" : "45BBE749C74C42E48464893B8CA22661"
      },
      "cell_type" : "code",
      "source" : [
        "case class Employee (firstName: String,\n",
        "                     lastName:  String,\n",
        "                     email:     String,\n",
        "                     phoneExt:  Option[Int],\n",
        "                     dept:      Department,\n",
        "                     seniority: Seniority)"
      ],
      "outputs" : [ ]
    },
    {
      "metadata" : {
        "trusted" : true,
        "input_collapsed" : false,
        "collapsed" : false,
        "id" : "50C45D03FA27452A80D14943E1BA8300"
      },
      "cell_type" : "code",
      "source" : [
        "val brian = Employee( \"Brian\", \"Jones\", \"bjones@xyz.com\", Some(118), Accounting() , Midlevel() )\n",
        "val craig = Employee(\"Craig\", \"Smith\", \"csmith@xyz.com\" , Some(237), Engineering(), Senior()   )\n",
        "val john  = Employee( \"John\" , \"Clark\", \"jclark@xyz.com\", None     , PointOfSale(), Trainee()  )\n",
        "\n",
        "val allEmployees = List(brian, craig, john)"
      ],
      "outputs" : [ ]
    },
    {
      "metadata" : {
        "id" : "6819D4D98EE6463A88EB002162285873"
      },
      "cell_type" : "markdown",
      "source" : "### Pattern Matching"
    },
    {
      "metadata" : {
        "id" : "7AFCAC399FCE4426AC9EF8549F5D6DA3"
      },
      "cell_type" : "markdown",
      "source" : "We now answer the question which employees should be on call during regular working hours."
    },
    {
      "metadata" : {
        "trusted" : true,
        "input_collapsed" : false,
        "collapsed" : false,
        "id" : "ED01072D12804EF089CC9B49DDFC4331"
      },
      "cell_type" : "code",
      "source" : [
        "def isOnCall(e: Employee): Boolean = e match {\n",
        "  case Employee( _, _, _, Some(_), Engineering(), Midlevel() ) => true\n",
        "  case Employee( _, _, _, Some(_), Engineering(), Senior()   ) => true\n",
        "  case _                                                       => false\n",
        "}"
      ],
      "outputs" : [ ]
    },
    {
      "metadata" : {
        "trusted" : true,
        "input_collapsed" : false,
        "collapsed" : false,
        "id" : "8F5463E8049E4B3981BBAE8C9BC7031D"
      },
      "cell_type" : "code",
      "source" : [
        "isOnCall(brian)"
      ],
      "outputs" : [ ]
    },
    {
      "metadata" : {
        "trusted" : true,
        "input_collapsed" : false,
        "collapsed" : false,
        "id" : "8F5463E8049E4B3981BBAE8C9BC7031D"
      },
      "cell_type" : "code",
      "source" : [
        "isOnCall(craig)"
      ],
      "outputs" : [ ]
    },
    {
      "metadata" : {
        "trusted" : true,
        "input_collapsed" : false,
        "collapsed" : false,
        "id" : "8F5463E8049E4B3981BBAE8C9BC7031D"
      },
      "cell_type" : "code",
      "source" : [
        "isOnCall(john)"
      ],
      "outputs" : [ ]
    },
    {
      "metadata" : {
        "trusted" : true,
        "input_collapsed" : false,
        "collapsed" : false,
        "id" : "CC3A6C7AAD574B83922C0F5DB97433C3"
      },
      "cell_type" : "code",
      "source" : [
        "val whoIsOnCall = allEmployees.filter( isOnCall(_) )"
      ],
      "outputs" : [ ]
    },
    {
      "metadata" : {
        "trusted" : true,
        "input_collapsed" : false,
        "collapsed" : false,
        "id" : "59580EA0DF1A414985BF726ECE6EFABC"
      },
      "cell_type" : "code",
      "source" : [
        "whoIsOnCall.foreach( e => println(s\"${e.firstName} ${e.lastName}\") )"
      ],
      "outputs" : [ ]
    },
    {
      "metadata" : {
        "id" : "CB94FB4A484C498A89D7EDEDAA2D4EE5"
      },
      "cell_type" : "markdown",
      "source" : "### Options"
    },
    {
      "metadata" : {
        "id" : "ADEAAAF6BEC842F793CF877926246AE5"
      },
      "cell_type" : "markdown",
      "source" : "The **`Option`** type is a container that is either empty ( **`None`** ) or full ( **`Some(value)`** ).  \nIt provides a safe alternative to the use of null, and should be used instead of null whenever possible.  \nOptions are collections (of at most one item) and they are embellished with collection operations.  \nHere's the idiomatic way to handle nulls in Scala."
    },
    {
      "metadata" : {
        "trusted" : true,
        "input_collapsed" : false,
        "collapsed" : false,
        "id" : "BB38AF5AA59648C3B3B0198BD937E61C"
      },
      "cell_type" : "code",
      "source" : [
        "val a: String = \"55\"\n",
        "val oa: Option[String] = Option(a)"
      ],
      "outputs" : [ ]
    },
    {
      "metadata" : {
        "trusted" : true,
        "input_collapsed" : false,
        "collapsed" : false,
        "id" : "C9A1041194F54F4184796C8BF34FE9C7"
      },
      "cell_type" : "code",
      "source" : [
        "val b = null\n",
        "val ob: Option[String] = Option(b)"
      ],
      "outputs" : [ ]
    },
    {
      "metadata" : {
        "trusted" : true,
        "input_collapsed" : false,
        "collapsed" : true,
        "id" : "31673FE6AD89463984F0D70D49814574"
      },
      "cell_type" : "markdown",
      "source" : "In our application we want to convert the string value **`\"55\"`** to the integer value **`55`**.  \nAs well, we want to be safe in case our input value is null.  \nBy wrapping the input value in **`Option`** and using **`map`** we can achieve this uniformly without encountering **`NullPointerException`**."
    },
    {
      "metadata" : {
        "trusted" : true,
        "input_collapsed" : false,
        "collapsed" : false,
        "id" : "9929F514DA404B0CA8973B4345AD8286"
      },
      "cell_type" : "code",
      "source" : [
        "oa.map( _.toInt )"
      ],
      "outputs" : [ ]
    },
    {
      "metadata" : {
        "trusted" : true,
        "input_collapsed" : false,
        "collapsed" : false,
        "id" : "9929F514DA404B0CA8973B4345AD8286"
      },
      "cell_type" : "code",
      "source" : [
        "ob.map( _.toInt )"
      ],
      "outputs" : [ ]
    },
    {
      "metadata" : {
        "id" : "F57AFA98E333499B970EBD6E8638AF9D"
      },
      "cell_type" : "markdown",
      "source" : "### Exception Handling, The FP Way"
    },
    {
      "metadata" : {
        "id" : "3B914392B2484F3B96711A019F14E59E"
      },
      "cell_type" : "markdown",
      "source" : "In our application we need a function to compute the character count of some environment variable.  \nLet's first create a naive function **`envVarCharCount`** to do that and run with it until we get ourselves into trouble."
    },
    {
      "metadata" : {
        "trusted" : true,
        "input_collapsed" : false,
        "collapsed" : false,
        "id" : "DD0199E2F4574046B53E46C1457F87D2"
      },
      "cell_type" : "code",
      "source" : [
        "sys.env(\"PWD\")"
      ],
      "outputs" : [ ]
    },
    {
      "metadata" : {
        "trusted" : true,
        "input_collapsed" : false,
        "collapsed" : false,
        "id" : "DD0199E2F4574046B53E46C1457F87D2"
      },
      "cell_type" : "code",
      "source" : [
        "sys.env(\"PWD\").size"
      ],
      "outputs" : [ ]
    },
    {
      "metadata" : {
        "trusted" : true,
        "input_collapsed" : false,
        "collapsed" : false,
        "id" : "E57C48921E1D4C86B07078E149B882B4"
      },
      "cell_type" : "code",
      "source" : [
        "def envVarCharCount(envVarName: String): Int = { sys.env(envVarName).size }"
      ],
      "outputs" : [ ]
    },
    {
      "metadata" : {
        "trusted" : true,
        "input_collapsed" : false,
        "collapsed" : false,
        "id" : "A5EB44080E3B49788D5399026D13D50C"
      },
      "cell_type" : "code",
      "source" : [
        "envVarCharCount(\"PWD\")"
      ],
      "outputs" : [ ]
    },
    {
      "metadata" : {
        "id" : "ABB86CDB5DD34713932635AC438B979C"
      },
      "cell_type" : "markdown",
      "source" : "Trouble:"
    },
    {
      "metadata" : {
        "trusted" : true,
        "input_collapsed" : false,
        "collapsed" : false,
        "id" : "A5EB44080E3B49788D5399026D13D50C"
      },
      "cell_type" : "code",
      "source" : [
        "envVarCharCount(\"ABC\")"
      ],
      "outputs" : [ ]
    },
    {
      "metadata" : {
        "id" : "AB655D988C3643848AF2902A40271105"
      },
      "cell_type" : "markdown",
      "source" : "We can treat the exception above ( **`java.util.NoSuchElementException: key not found: ABC`** ) in an FP way like this:"
    },
    {
      "metadata" : {
        "trusted" : true,
        "input_collapsed" : false,
        "collapsed" : false,
        "id" : "B3ED7E5986344F99885E43CFBE9B5513"
      },
      "cell_type" : "code",
      "source" : [
        "import scala.util.{Try, Success, Failure}"
      ],
      "outputs" : [ ]
    },
    {
      "metadata" : {
        "trusted" : true,
        "input_collapsed" : false,
        "collapsed" : false,
        "id" : "DD0199E2F4574046B53E46C1457F87D2"
      },
      "cell_type" : "code",
      "source" : [
        "Try( sys.env(\"PWD\") )"
      ],
      "outputs" : [ ]
    },
    {
      "metadata" : {
        "trusted" : true,
        "input_collapsed" : false,
        "collapsed" : false,
        "id" : "DD0199E2F4574046B53E46C1457F87D2"
      },
      "cell_type" : "code",
      "source" : [
        "Try( sys.env(\"PWD\") ).map( _.size )"
      ],
      "outputs" : [ ]
    },
    {
      "metadata" : {
        "trusted" : true,
        "input_collapsed" : false,
        "collapsed" : false,
        "id" : "DD0199E2F4574046B53E46C1457F87D2"
      },
      "cell_type" : "code",
      "source" : [
        "Try( sys.env(\"PWD\") ).map( _.size ).toOption"
      ],
      "outputs" : [ ]
    },
    {
      "metadata" : {
        "trusted" : true,
        "input_collapsed" : false,
        "collapsed" : false,
        "id" : "DD0199E2F4574046B53E46C1457F87D2"
      },
      "cell_type" : "code",
      "source" : [
        "Try( sys.env(\"ABC\") )"
      ],
      "outputs" : [ ]
    },
    {
      "metadata" : {
        "trusted" : true,
        "input_collapsed" : false,
        "collapsed" : false,
        "id" : "DD0199E2F4574046B53E46C1457F87D2"
      },
      "cell_type" : "code",
      "source" : [
        "Try( sys.env(\"ABC\") ).map( _.size )"
      ],
      "outputs" : [ ]
    },
    {
      "metadata" : {
        "trusted" : true,
        "input_collapsed" : false,
        "collapsed" : false,
        "id" : "DD0199E2F4574046B53E46C1457F87D2"
      },
      "cell_type" : "code",
      "source" : [
        "Try( sys.env(\"ABC\") ).map( _.size ).toOption"
      ],
      "outputs" : [ ]
    },
    {
      "metadata" : {
        "id" : "39C12F5D0D1E4E0E872DD2968AE5035A"
      },
      "cell_type" : "markdown",
      "source" : "### Destructuring bindings"
    },
    {
      "metadata" : {
        "trusted" : true,
        "input_collapsed" : false,
        "collapsed" : true,
        "id" : "E10BEF84DD6F459AB2374DE9DA559240"
      },
      "cell_type" : "markdown",
      "source" : "Destructuring value bindings are related to pattern matching; they use the same mechanism but are applicable when there is exactly one option.  \nDestructuring bindings are particularly useful for tuples and case classes."
    },
    {
      "metadata" : {
        "trusted" : true,
        "input_collapsed" : false,
        "collapsed" : false,
        "id" : "24A5E1D3218C44338B0EF60B49D6056D"
      },
      "cell_type" : "code",
      "source" : [
        "def fn(i: Int): (Int, Int) = { (5, i) }"
      ],
      "outputs" : [ ]
    },
    {
      "metadata" : {
        "trusted" : true,
        "input_collapsed" : false,
        "collapsed" : false,
        "id" : "1053FAB4307D440DA0B68EFB7117D6EE"
      },
      "cell_type" : "code",
      "source" : [
        "fn(11)"
      ],
      "outputs" : [ ]
    },
    {
      "metadata" : {
        "trusted" : true,
        "input_collapsed" : false,
        "collapsed" : false,
        "id" : "70C6345758614D59893926DE9A9BE1C0"
      },
      "cell_type" : "code",
      "source" : [
        "val (a, b) = fn(11)"
      ],
      "outputs" : [ ]
    },
    {
      "metadata" : {
        "trusted" : true,
        "input_collapsed" : false,
        "collapsed" : true,
        "id" : "E47F37E67B6640D986ECDF65D12EC90A"
      },
      "cell_type" : "code",
      "source" : [
        ""
      ],
      "outputs" : [ ]
    }
  ],
  "nbformat" : 4
}
